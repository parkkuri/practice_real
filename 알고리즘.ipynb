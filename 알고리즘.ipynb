{
 "cells": [
  {
   "cell_type": "markdown",
   "metadata": {},
   "source": [
    "#\n",
    "6은 1,2,3,6의 4개의 약수를 가지고, 8은 1,2,4,8의 4개의 약수를 가지며, \n",
    "10도 1,2,5,10의 4개의 약수를 가진다. \n",
    "따라서 5이상 10이하의 범위에서 4개의 약수를 가지는 수는 6,8,10의 3개다. \n",
    "이렇게 약수의 개수 k와 수의 범위 a, b(0≤a,b≤100000)가 주어질 때 조건 \n",
    "을 만족하는 수와 개수를 출력하는 프로그램을 작성하라. \n",
    "\n",
    "입력 – k = 4 \n",
    "       a = 5 \n",
    "       b = 10 \n",
    "\n",
    "출력 – 6 8 10 \n",
    "       ‘3개 입니다.’ \n"
   ]
  },
  {
   "cell_type": "code",
   "execution_count": 98,
   "metadata": {},
   "outputs": [],
   "source": [
    "def fun_divisor(k,a,b): \n",
    "    divisor={}\n",
    "    number_answer=[]\n",
    "    for i in range(a,b+1):\n",
    "        number = i\n",
    "        count=1\n",
    "        for j in range(1,int(number/2)+1):\n",
    "            if number%j==0:\n",
    "                count+=1\n",
    "            divisor[number] = count\n",
    "        if divisor[number]==4:\n",
    "            number_answer.append(number)\n",
    "    return number_answer, len(number_answer)"
   ]
  },
  {
   "cell_type": "markdown",
   "metadata": {},
   "source": [
    "# \n",
    "반복 스펠링은 단어 내의 모든 문자에 대해, 스펠링이 1회 이상 연속해 \n",
    "서 나타나는 경우를 말하는데, cccaaattb는 c,a,t,b가 반복하기에 \n",
    "반복 스펠링 단어다. \n",
    "Pen도 p,e,n이 1회 연속하기에 반복 스펠링 단어이지만, alpha는 l,p,h는 \n",
    "연속하지만 a가 연속하지 않기에 반복 스펠링 단어가 아니다. \n",
    "단어로 이루어진 txt파일을 읽어와 반복 스펠링 단어의 개수를 출력하는 \n",
    "프로그램을 작성하시오. (첨부 txt파일 확인) \n",
    "예시) \n",
    "입력 – alpha, beta, gamma, delta, epsilon, zeta, eta \n",
    "출력 – 5 "
   ]
  },
  {
   "cell_type": "code",
   "execution_count": 133,
   "metadata": {},
   "outputs": [
    {
     "name": "stdout",
     "output_type": "stream",
     "text": [
      "3\n"
     ]
    }
   ],
   "source": [
    "with open(\"C:/Users/q/workspace/tobigs_homework/work/a_dic2.txt\", 'r') as f:\n",
    "    lines = f.readlines()\n",
    "    count=0\n",
    "    for line in lines:\n",
    "        if len(list(line)) == len(set(line)):\n",
    "            count+=1\n",
    "        else:\n",
    "            for i in list(set(line)):\n",
    "                if line.count(i) >=2:\n",
    "                    a = line.count(i)\n",
    "                    line = line.replace(a*i,i)\n",
    "                    if len(list(line)) == len(set(line)):\n",
    "                        count+=1\n",
    "    print(count)"
   ]
  },
  {
   "cell_type": "markdown",
   "metadata": {},
   "source": [
    "# \n",
    "음이 아닌 정수로 이루어진 수열 A1,A2,…,An이 있다. 단조수열 \n",
    "    B1,B2,…,Bn을 만들어서 |A1-B1|+|A2-B2|+…+|An-Bn|의 값을 최소 \n",
    "   로 하는 프로그램을 작성하시오. \n",
    "\n",
    "예시) \n",
    "입력 – A = 1 3 2 4 5 3 9 \n",
    "\n",
    "출력 – B = 1 3 3 4 5 5 9 \n",
    "      합의 최소값 = 3 \n"
   ]
  },
  {
   "cell_type": "code",
   "execution_count": 232,
   "metadata": {},
   "outputs": [],
   "source": [
    "num = '1 3 2 4 5 3 9'"
   ]
  },
  {
   "cell_type": "code",
   "execution_count": 229,
   "metadata": {},
   "outputs": [],
   "source": [
    "num = '9 3 5 4 2 3 1'"
   ]
  },
  {
   "cell_type": "code",
   "execution_count": 233,
   "metadata": {},
   "outputs": [],
   "source": [
    "mun_list = list(map(int,num.split()))\n",
    "min_num = min(mun_list)\n",
    "max_num = max(mun_list)\n",
    "\n",
    "min_index = [mun_list.index(min_num)]\n",
    "max_index= [mun_list.index(max_num)]\n",
    "\n",
    "index_final = min(min_index + max_index)\n",
    "\n",
    "number_select = mun_list[index_final]\n",
    "select = []\n",
    "if number_select == min_num:\n",
    "    for i in mun_list:\n",
    "        if number_select <= i:\n",
    "            number_select = i\n",
    "        select.append(number_select)\n",
    "elif number_select == max_num:\n",
    "    for i in mun_list:\n",
    "        if number_select >= i:\n",
    "            number_select = i\n",
    "        select.append(number_select)\n",
    "        \n",
    "    \n",
    "    \n",
    "    \n",
    "    \n",
    "    "
   ]
  },
  {
   "cell_type": "code",
   "execution_count": 234,
   "metadata": {},
   "outputs": [
    {
     "data": {
      "text/plain": [
       "[1, 3, 3, 4, 5, 5, 9]"
      ]
     },
     "execution_count": 234,
     "metadata": {},
     "output_type": "execute_result"
    }
   ],
   "source": [
    "select"
   ]
  },
  {
   "cell_type": "code",
   "execution_count": 220,
   "metadata": {},
   "outputs": [
    {
     "data": {
      "text/plain": [
       "3"
      ]
     },
     "execution_count": 220,
     "metadata": {},
     "output_type": "execute_result"
    }
   ],
   "source": [
    "number_select"
   ]
  }
 ],
 "metadata": {
  "kernelspec": {
   "display_name": "Python 3",
   "language": "python",
   "name": "python3"
  },
  "language_info": {
   "codemirror_mode": {
    "name": "ipython",
    "version": 3
   },
   "file_extension": ".py",
   "mimetype": "text/x-python",
   "name": "python",
   "nbconvert_exporter": "python",
   "pygments_lexer": "ipython3",
   "version": "3.7.2"
  }
 },
 "nbformat": 4,
 "nbformat_minor": 2
}
