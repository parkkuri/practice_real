{
 "cells": [
  {
   "cell_type": "code",
   "execution_count": 1,
   "metadata": {},
   "outputs": [],
   "source": [
    "import os\n",
    "\n",
    "os.chdir(\"C:/Users/kebee/Desktop/dictonary/data/extracted_images\")\n",
    "\n",
    "from random import shuffle\n",
    "import glob\n",
    "shuffle_data = True  # shuffle the addresses before saving\n",
    "train_path = 'C:/Users/kebee/Desktop/dictonary/data/extracted_images'\n",
    "# read addresses and labels from the 'train' folder\n",
    "addrs = glob.glob(train_path)\n"
   ]
  },
  {
   "cell_type": "code",
   "execution_count": 2,
   "metadata": {},
   "outputs": [
    {
     "name": "stdout",
     "output_type": "stream",
     "text": [
      "C:/Users/kebee/Desktop/dictonary/data/extracted_images\n",
      "C:/Users/kebee/Desktop/dictonary/data/extracted_images\\!\n",
      "C:/Users/kebee/Desktop/dictonary/data/extracted_images\\(\n",
      "C:/Users/kebee/Desktop/dictonary/data/extracted_images\\)\n",
      "C:/Users/kebee/Desktop/dictonary/data/extracted_images\\+\n",
      "C:/Users/kebee/Desktop/dictonary/data/extracted_images\\,\n",
      "C:/Users/kebee/Desktop/dictonary/data/extracted_images\\-\n",
      "C:/Users/kebee/Desktop/dictonary/data/extracted_images\\0\n",
      "C:/Users/kebee/Desktop/dictonary/data/extracted_images\\=\n",
      "C:/Users/kebee/Desktop/dictonary/data/extracted_images\\A\n",
      "C:/Users/kebee/Desktop/dictonary/data/extracted_images\\alpha\n",
      "C:/Users/kebee/Desktop/dictonary/data/extracted_images\\ascii_124\n",
      "C:/Users/kebee/Desktop/dictonary/data/extracted_images\\b\n",
      "C:/Users/kebee/Desktop/dictonary/data/extracted_images\\beta\n",
      "C:/Users/kebee/Desktop/dictonary/data/extracted_images\\C\n",
      "C:/Users/kebee/Desktop/dictonary/data/extracted_images\\cos\n",
      "C:/Users/kebee/Desktop/dictonary/data/extracted_images\\d\n",
      "C:/Users/kebee/Desktop/dictonary/data/extracted_images\\Delta\n",
      "C:/Users/kebee/Desktop/dictonary/data/extracted_images\\div\n",
      "C:/Users/kebee/Desktop/dictonary/data/extracted_images\\e\n",
      "C:/Users/kebee/Desktop/dictonary/data/extracted_images\\exists\n",
      "C:/Users/kebee/Desktop/dictonary/data/extracted_images\\f\n",
      "C:/Users/kebee/Desktop/dictonary/data/extracted_images\\forall\n",
      "C:/Users/kebee/Desktop/dictonary/data/extracted_images\\forward_slash\n",
      "C:/Users/kebee/Desktop/dictonary/data/extracted_images\\G\n",
      "C:/Users/kebee/Desktop/dictonary/data/extracted_images\\gamma\n",
      "C:/Users/kebee/Desktop/dictonary/data/extracted_images\\geq\n",
      "C:/Users/kebee/Desktop/dictonary/data/extracted_images\\gt\n",
      "C:/Users/kebee/Desktop/dictonary/data/extracted_images\\H\n",
      "C:/Users/kebee/Desktop/dictonary/data/extracted_images\\i\n",
      "C:/Users/kebee/Desktop/dictonary/data/extracted_images\\in\n",
      "C:/Users/kebee/Desktop/dictonary/data/extracted_images\\infty\n",
      "C:/Users/kebee/Desktop/dictonary/data/extracted_images\\int\n",
      "C:/Users/kebee/Desktop/dictonary/data/extracted_images\\j\n",
      "C:/Users/kebee/Desktop/dictonary/data/extracted_images\\k\n",
      "C:/Users/kebee/Desktop/dictonary/data/extracted_images\\l\n",
      "C:/Users/kebee/Desktop/dictonary/data/extracted_images\\lambda\n",
      "C:/Users/kebee/Desktop/dictonary/data/extracted_images\\ldots\n",
      "C:/Users/kebee/Desktop/dictonary/data/extracted_images\\leq\n",
      "C:/Users/kebee/Desktop/dictonary/data/extracted_images\\lim\n",
      "C:/Users/kebee/Desktop/dictonary/data/extracted_images\\log\n",
      "C:/Users/kebee/Desktop/dictonary/data/extracted_images\\lt\n",
      "C:/Users/kebee/Desktop/dictonary/data/extracted_images\\M\n",
      "C:/Users/kebee/Desktop/dictonary/data/extracted_images\\mu\n",
      "C:/Users/kebee/Desktop/dictonary/data/extracted_images\\N\n",
      "C:/Users/kebee/Desktop/dictonary/data/extracted_images\\neq\n",
      "C:/Users/kebee/Desktop/dictonary/data/extracted_images\\o\n",
      "C:/Users/kebee/Desktop/dictonary/data/extracted_images\\p\n",
      "C:/Users/kebee/Desktop/dictonary/data/extracted_images\\phi\n",
      "C:/Users/kebee/Desktop/dictonary/data/extracted_images\\pi\n",
      "C:/Users/kebee/Desktop/dictonary/data/extracted_images\\pm\n",
      "C:/Users/kebee/Desktop/dictonary/data/extracted_images\\prime\n",
      "C:/Users/kebee/Desktop/dictonary/data/extracted_images\\q\n",
      "C:/Users/kebee/Desktop/dictonary/data/extracted_images\\R\n",
      "C:/Users/kebee/Desktop/dictonary/data/extracted_images\\rightarrow\n",
      "C:/Users/kebee/Desktop/dictonary/data/extracted_images\\S\n",
      "C:/Users/kebee/Desktop/dictonary/data/extracted_images\\sigma\n",
      "C:/Users/kebee/Desktop/dictonary/data/extracted_images\\sin\n",
      "C:/Users/kebee/Desktop/dictonary/data/extracted_images\\sqrt\n",
      "C:/Users/kebee/Desktop/dictonary/data/extracted_images\\sum\n",
      "C:/Users/kebee/Desktop/dictonary/data/extracted_images\\T\n",
      "C:/Users/kebee/Desktop/dictonary/data/extracted_images\\tan\n",
      "C:/Users/kebee/Desktop/dictonary/data/extracted_images\\theta\n",
      "C:/Users/kebee/Desktop/dictonary/data/extracted_images\\times\n",
      "C:/Users/kebee/Desktop/dictonary/data/extracted_images\\u\n",
      "C:/Users/kebee/Desktop/dictonary/data/extracted_images\\v\n",
      "C:/Users/kebee/Desktop/dictonary/data/extracted_images\\w\n",
      "C:/Users/kebee/Desktop/dictonary/data/extracted_images\\X\n",
      "C:/Users/kebee/Desktop/dictonary/data/extracted_images\\y\n",
      "C:/Users/kebee/Desktop/dictonary/data/extracted_images\\z\n",
      "C:/Users/kebee/Desktop/dictonary/data/extracted_images\\[\n",
      "C:/Users/kebee/Desktop/dictonary/data/extracted_images\\]\n",
      "C:/Users/kebee/Desktop/dictonary/data/extracted_images\\{\n",
      "C:/Users/kebee/Desktop/dictonary/data/extracted_images\\}\n"
     ]
    }
   ],
   "source": [
    "for root, dirs, files in os.walk('C:/Users/kebee/Desktop/dictonary/data/extracted_images'):\n",
    "    print(root)"
   ]
  },
  {
   "cell_type": "code",
   "execution_count": 3,
   "metadata": {},
   "outputs": [],
   "source": [
    "path = 'C:/Users/kebee/Desktop/dictonary/data/extracted_images'\n",
    "res = []\n",
    "for root, dirs, files in os.walk(path):\n",
    "    rootpath = os.path.join(os.path.abspath(path), root)\n",
    "    for file in files:\n",
    "        filepath = os.path.join(rootpath, file)\n",
    "        res.append(filepath)"
   ]
  },
  {
   "cell_type": "code",
   "execution_count": 4,
   "metadata": {},
   "outputs": [],
   "source": [
    "label_all= []\n",
    "labels=None\n",
    "for addr in res:\n",
    "    labels= addr.split('\\\\')[1]\n",
    "    label_all.append(labels)"
   ]
  },
  {
   "cell_type": "code",
   "execution_count": 5,
   "metadata": {},
   "outputs": [],
   "source": [
    "unique_label  = set(label_all)\n",
    "unique_label= list(unique_label)"
   ]
  },
  {
   "cell_type": "code",
   "execution_count": 6,
   "metadata": {},
   "outputs": [],
   "source": [
    "import pandas as pd\n",
    "pd_label = pd.DataFrame(unique_label,list(range(0,73)))"
   ]
  },
  {
   "cell_type": "code",
   "execution_count": 7,
   "metadata": {},
   "outputs": [],
   "source": [
    "dic_label = dict(pd_label)\n",
    "dictionary = dic_label\n",
    "name_all= []\n",
    "for label_single in label_all:\n",
    "    for k,label_real in enumerate(pd_label[0]):\n",
    "        if label_single == label_real:\n",
    "            name = k\n",
    "            name_all.append(name)"
   ]
  },
  {
   "cell_type": "code",
   "execution_count": 27,
   "metadata": {},
   "outputs": [],
   "source": [
    "# to shuffle data\n",
    "if shuffle_data:\n",
    "    c = list(zip(res, name_all))\n",
    "    shuffle(c)\n",
    "    addrs, labels = zip(*c)\n",
    "    \n"
   ]
  },
  {
   "cell_type": "code",
   "execution_count": 28,
   "metadata": {},
   "outputs": [],
   "source": [
    "import cv2\n",
    "def load_image(addr):\n",
    "    # read an image and resize to (224, 224)\n",
    "    # cv2 load images as BGR, convert it to RGB\n",
    "    img =  cv2.imread(addr)\n",
    "    img = img.astype(np.float32)\n",
    "    return img"
   ]
  },
  {
   "cell_type": "code",
   "execution_count": 30,
   "metadata": {},
   "outputs": [],
   "source": [
    "import pandas\n",
    "\n",
    "train_addrs = addrs[0:int(0.7*len(addrs))]\n",
    "train_labels = labels[0:int(0.7*len(labels))]\n",
    "val_addrs = addrs[int(0.7*len(addrs)):int(0.8*len(addrs))]\n",
    "val_labels = labels[int(0.7*len(labels)):int(0.8*len(addrs))]\n",
    "test_addrs = addrs[int(0.8*len(addrs)):]\n",
    "test_labels  = labels[int(0.8*len(addrs)):]\n",
    "\n",
    "x_train = train_addrs\n",
    "y_train = pd.DataFrame(list(train_labels))\n",
    "\n",
    "x_val = val_addrs\n",
    "y_val = pd.DataFrame(list(val_labels))\n",
    "\n",
    "\n",
    "x_test = test_addrs\n",
    "y_test =  pd.DataFrame(list(test_labels))\n",
    "\n",
    "from sklearn.preprocessing import OneHotEncoder\n",
    "ohe = OneHotEncoder()\n",
    "y_data1 = y_train.values\n",
    "y_train = ohe.fit_transform(y_data1.reshape(-1, 1)).toarray()\n",
    "\n",
    "\n",
    "y_val = ohe.fit_transform(y_val.values.reshape(-1, 1)).toarray()\n",
    "\n",
    "\n",
    "y_data1 = y_test.values\n",
    "y_test = ohe.fit_transform(y_data1.reshape(-1, 1)).toarray()\n"
   ]
  },
  {
   "cell_type": "code",
   "execution_count": 31,
   "metadata": {},
   "outputs": [],
   "source": [
    "x_test = test_addrs\n",
    "x_train = train_addrs\n",
    "x_val = val_addrs\n"
   ]
  },
  {
   "cell_type": "code",
   "execution_count": 32,
   "metadata": {},
   "outputs": [],
   "source": [
    "import numpy as np\n",
    "train_x = []\n",
    "for i in range(len(train_addrs)):\n",
    "    # Load the image\n",
    "    img = load_image(train_addrs[i])\n",
    "    # Create a feature\n",
    "    train_x.append(img)"
   ]
  },
  {
   "cell_type": "code",
   "execution_count": 33,
   "metadata": {},
   "outputs": [],
   "source": [
    "import numpy as np\n",
    "val_x = []\n",
    "for i in range(len(val_addrs)):\n",
    "    # Load the image\n",
    "    img = load_image(val_addrs[i])\n",
    "    # Create a feature\n",
    "    val_x.append(img)"
   ]
  },
  {
   "cell_type": "code",
   "execution_count": 34,
   "metadata": {},
   "outputs": [],
   "source": [
    "x_test = []\n",
    "for i in range(len(test_addrs)):\n",
    "    # Load the image\n",
    "    img = load_image(test_addrs[i])\n",
    "    # Create a feature\n",
    "    x_test.append(img)"
   ]
  },
  {
   "cell_type": "code",
   "execution_count": 35,
   "metadata": {},
   "outputs": [],
   "source": [
    "train_y = np.array(y_train)\n",
    "train_x = np.array(train_x)\n",
    "test_x = np.array(x_test)\n",
    "test_y = np.array(y_test)\n",
    "val_x = np.array(val_x)\n",
    "y_val = np.array(y_val)"
   ]
  },
  {
   "cell_type": "code",
   "execution_count": null,
   "metadata": {},
   "outputs": [
    {
     "name": "stdout",
     "output_type": "stream",
     "text": [
      "Train on 202041 samples, validate on 28863 samples\n",
      "Epoch 1/50\n",
      " 15136/202041 [=>............................] - ETA: 2:24:08 - loss: 14.6902 - acc: 0.0885"
     ]
    }
   ],
   "source": [
    "from keras.models import Sequential\n",
    "from keras.layers.core import Flatten, Dense, Dropout\n",
    "from keras.layers.convolutional import Convolution2D, MaxPooling2D, ZeroPadding2D\n",
    "from keras.optimizers import SGD\n",
    "from keras.utils import np_utils\n",
    "import pandas\n",
    "import sys\n",
    "import os\n",
    "import cv2, numpy as np\n",
    "from keras.utils import np_utils\n",
    "from keras.callbacks import EarlyStopping\n",
    "\n",
    "# model = Sequential()\n",
    "\n",
    "# model.add(Conv2D(2, (3, 3), padding='same', activation='relu', input_shape=(45, 45, 3)))\n",
    "# model.add(MaxPooling2D(pool_size=(2, 2)))\n",
    "# model.add(Conv2D(3, (2, 2), padding='same', activation='relu'))\n",
    "# model.add(MaxPooling2D(pool_size=(2, 2)))\n",
    "# model.add(Flatten())\n",
    "# model.add(Dense(8, activation='relu'))\n",
    "# model.add(Dense(73, activation='softmax'))\n",
    "\n",
    "# model = Sequential()\n",
    "# model.add(ZeroPadding2D((1,1),input_shape=(45, 45, 3)))\n",
    "# model.add(Convolution2D(64, 3, 3, activation='relu'))\n",
    "# model.add(ZeroPadding2D((1,1)))\n",
    "# model.add(Convolution2D(64, 3, 3, activation='relu'))\n",
    "# model.add(MaxPooling2D((2,2), strides=(2,2)))\n",
    "\n",
    "# model.add(ZeroPadding2D((1,1)))\n",
    "# model.add(Convolution2D(128, 3, 3, activation='relu'))\n",
    "# model.add(ZeroPadding2D((1,1)))\n",
    "# model.add(Convolution2D(128, 3, 3, activation='relu'))\n",
    "# model.add(MaxPooling2D((2,2), strides=(2,2)))\n",
    "\n",
    "# model.add(Flatten())\n",
    "# model.add(Dense(256, activation='relu'))\n",
    "# model.add(Dropout(0.5))\n",
    "# model.add(Dense(256, activation='relu'))\n",
    "# model.add(Dropout(0.5))\n",
    "# model.add(Dense(73, activation='softmax'))\n",
    "\n",
    "\n",
    "# model = Sequential()\n",
    "# model.add(Conv2D(32, kernel_size=(5, 5), strides=(1, 1), padding='same',\n",
    "#                  activation='relu', input_shape=(45, 45, 3)))\n",
    "# model.add(MaxPooling2D(pool_size=(2, 2), strides=(2, 2)))\n",
    "# model.add(Conv2D(64, (2, 2), activation='relu', padding='same'))\n",
    "# model.add(MaxPooling2D(pool_size=(2, 2)))\n",
    "# model.add(Dropout(0.25))\n",
    "# model.add(Flatten())\n",
    "# model.add(Dense(1000, activation='relu'))\n",
    "# model.add(Dropout(0.5))\n",
    "# model.add(Dense(73, activation='softmax'))\n",
    "\n",
    "model = Sequential()\n",
    "model.add(Conv2D(32, kernel_size=(5, 5), strides=(1, 1), padding='same',activation='relu', input_shape=(45, 45, 3)))\n",
    "model.add(Dropout(0.25))\n",
    "model.add(Flatten())\n",
    "model.add(Dense(1024, activation='relu'))\n",
    "model.add(Dropout(0.5))\n",
    "model.add(Dense(73, activation='softmax'))\n",
    "\n",
    "\n",
    "model.compile(loss='categorical_crossentropy', optimizer='adam', metrics=['accuracy'])\n",
    "\n",
    "\n",
    "early_stopping = EarlyStopping(monitor='val_acc', min_delta=0.05, patience=1, verbose=0, mode='auto')\n",
    "hist = model.fit(train_x, train_y, epochs=50, batch_size=32, validation_data=(val_x, y_val), callbacks=[early_stopping])\n",
    "\n",
    "%matplotlib inline\n",
    "import matplotlib.pyplot as plt\n",
    "\n",
    "fig, loss_ax = plt.subplots()\n",
    "\n",
    "acc_ax = loss_ax.twinx()\n",
    "\n",
    "loss_ax.plot(hist.history['loss'], 'y', label='train loss')\n",
    "loss_ax.plot(hist.history['val_loss'], 'r', label='val loss')\n",
    "\n",
    "acc_ax.plot(hist.history['acc'], 'b', label='train acc')\n",
    "acc_ax.plot(hist.history['val_acc'], 'g', label='val acc')\n",
    "\n",
    "loss_ax.set_xlabel('epoch')\n",
    "loss_ax.set_ylabel('loss')\n",
    "acc_ax.set_ylabel('accuray')\n",
    "\n",
    "loss_ax.legend(loc='upper left')\n",
    "acc_ax.legend(loc='lower left')\n",
    "\n",
    "plt.show()"
   ]
  },
  {
   "cell_type": "code",
   "execution_count": 50,
   "metadata": {},
   "outputs": [
    {
     "data": {
      "text/plain": [
       "57727"
      ]
     },
     "execution_count": 50,
     "metadata": {},
     "output_type": "execute_result"
    }
   ],
   "source": [
    "socre = model.evaluate(test_x,test_y)\n",
    "print('loss=',scroe[0])\n",
    "print('accuracy=',scroe[1])"
   ]
  },
  {
   "cell_type": "code",
   "execution_count": null,
   "metadata": {},
   "outputs": [],
   "source": [
    "pre = model.predict(test_x)"
   ]
  },
  {
   "cell_type": "code",
   "execution_count": null,
   "metadata": {},
   "outputs": [],
   "source": [
    "for i,v in enumerate(pre[0:10]):\n",
    "    print(\"예측: \",v.argmax())\n",
    "    print(\"정답: \",test_y[i].argmax)"
   ]
  },
  {
   "cell_type": "code",
   "execution_count": null,
   "metadata": {},
   "outputs": [],
   "source": []
  }
 ],
 "metadata": {
  "kernelspec": {
   "display_name": "Python 3",
   "language": "python",
   "name": "python3"
  },
  "language_info": {
   "codemirror_mode": {
    "name": "ipython",
    "version": 3
   },
   "file_extension": ".py",
   "mimetype": "text/x-python",
   "name": "python",
   "nbconvert_exporter": "python",
   "pygments_lexer": "ipython3",
   "version": "3.5.5"
  }
 },
 "nbformat": 4,
 "nbformat_minor": 2
}
